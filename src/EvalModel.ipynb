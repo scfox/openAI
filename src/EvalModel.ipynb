{
 "cells": [
  {
   "cell_type": "code",
   "execution_count": 2,
   "metadata": {},
   "outputs": [],
   "source": [
    "import tensorflow as tf\n",
    "import io\n",
    "\n",
    "policy_dir = '../output/policy'\n",
    "saved_policy = tf.compat.v2.saved_model.load(policy_dir)"
   ]
  },
  {
   "cell_type": "code",
   "execution_count": 3,
   "metadata": {},
   "outputs": [
    {
     "data": {
      "text/plain": [
       "<tensorflow.python.saved_model.load.Loader._recreate_base_user_object.<locals>._UserObject at 0x1451d9128>"
      ]
     },
     "execution_count": 3,
     "metadata": {},
     "output_type": "execute_result"
    }
   ],
   "source": [
    "saved_policy"
   ]
  },
  {
   "cell_type": "code",
   "execution_count": 8,
   "metadata": {},
   "outputs": [],
   "source": [
    "import IPython\n",
    "import base64\n",
    "\n",
    "def embed_gif(gif_buffer):\n",
    "  \"\"\"Embeds a gif file in the notebook.\"\"\"\n",
    "  tag = '<img src=\"data:image/gif;base64,{0}\"/>'.format(base64.b64encode(gif_buffer).decode())\n",
    "  return IPython.display.HTML(tag)\n",
    "\n",
    "def run_episodes_and_create_video(policy, eval_tf_env, eval_py_env):\n",
    "  num_episodes = 3\n",
    "  frames = []\n",
    "  for _ in range(num_episodes):\n",
    "    time_step = eval_tf_env.reset()\n",
    "    frames.append(eval_py_env.render())\n",
    "    while not time_step.is_last():\n",
    "      action_step = policy.action(time_step)\n",
    "      time_step = eval_tf_env.step(action_step.action)\n",
    "      frames.append(eval_py_env.render())\n",
    "  gif_file = io.BytesIO()\n",
    "  imageio.mimsave(gif_file, frames, format='gif', fps=60)\n",
    "  IPython.display.display(embed_gif(gif_file.getvalue()))"
   ]
  },
  {
   "cell_type": "code",
   "execution_count": 5,
   "metadata": {},
   "outputs": [],
   "source": [
    "import gym\n",
    "from tf_agents.environments import suite_gym\n",
    "from tf_agents.environments import tf_py_environment\n",
    "import imageio\n",
    "import io\n",
    "\n",
    "\n",
    "eval_py_env = suite_gym.load('CartPole-v1')\n",
    "eval_env = tf_py_environment.TFPyEnvironment(eval_py_env)\n",
    "\n"
   ]
  },
  {
   "cell_type": "code",
   "execution_count": 7,
   "metadata": {},
   "outputs": [
    {
     "data": {
      "text/plain": [
       "356.61484"
      ]
     },
     "execution_count": 7,
     "metadata": {},
     "output_type": "execute_result"
    }
   ],
   "source": [
    "def compute_avg_return(environment, policy, num_episodes=10):\n",
    "\n",
    "  total_return = 0.0\n",
    "  for _ in range(num_episodes):\n",
    "\n",
    "    time_step = environment.reset()\n",
    "    episode_return = 0.0\n",
    "\n",
    "    while not time_step.is_last():\n",
    "      action_step = policy.action(time_step)\n",
    "      time_step = environment.step(action_step.action)\n",
    "      dist_from_center = abs(time_step.observation[0])\n",
    "      episode_return += time_step.reward - dist_from_center \n",
    "    total_return += episode_return\n",
    "\n",
    "  avg_return = total_return / num_episodes\n",
    "  return avg_return.numpy()[0]\n",
    "\n",
    "compute_avg_return(eval_env, saved_policy)"
   ]
  },
  {
   "cell_type": "code",
   "execution_count": null,
   "metadata": {},
   "outputs": [],
   "source": [
    "run_episodes_and_create_video(saved_policy, eval_env, eval_py_env)\n",
    "\n"
   ]
  },
  {
   "cell_type": "code",
   "execution_count": null,
   "metadata": {},
   "outputs": [],
   "source": []
  }
 ],
 "metadata": {
  "kernelspec": {
   "display_name": "Python 3",
   "language": "python",
   "name": "python3"
  },
  "language_info": {
   "codemirror_mode": {
    "name": "ipython",
    "version": 3
   },
   "file_extension": ".py",
   "mimetype": "text/x-python",
   "name": "python",
   "nbconvert_exporter": "python",
   "pygments_lexer": "ipython3",
   "version": "3.6.1"
  }
 },
 "nbformat": 4,
 "nbformat_minor": 4
}
